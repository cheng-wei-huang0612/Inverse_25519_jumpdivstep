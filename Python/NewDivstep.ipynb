{
 "cells": [
  {
   "cell_type": "markdown",
   "id": "1dd62c9d-1751-40e8-a850-ff9d02853f55",
   "metadata": {},
   "source": [
    "$$\n",
    "(\\delta, f, g) \\mapsto\\left\\{\\begin{array}{l}\n",
    "(1-\\delta, g,(g {\\color{red}+} f) / 2), \\text { if } \\delta>0 \\text { and } g \\text { is odd } \\\\\n",
    "(1+\\delta, f,(g+(g \\text { mod } 2) f) / 2), \\text { otherwise. }\n",
    "\\end{array}\\right.\n",
    "$$"
   ]
  },
  {
   "cell_type": "code",
   "execution_count": 1,
   "id": "ce21bef1-a903-4f70-b01f-1435bd0ecc9a",
   "metadata": {},
   "outputs": [
    {
     "name": "stdout",
     "output_type": "stream",
     "text": [
      "11982043\n",
      "8631426\n"
     ]
    }
   ],
   "source": [
    "#P = (2**255) - 19\n",
    "from random import randint\n",
    "F = randint(0, 2**24)\n",
    "G = randint(0, F - 1)\n",
    "delta = 0.5\n",
    "print(F)\n",
    "print(G)"
   ]
  },
  {
   "cell_type": "code",
   "execution_count": 2,
   "id": "e772763b-ce54-4b96-b3f2-5438afca18aa",
   "metadata": {},
   "outputs": [],
   "source": [
    "def Newdivstep(delta, f, g):\n",
    "    g_and_1 = g & 1\n",
    "    cond = (int(delta > 0)) & (g_and_1 == 1)\n",
    "\n",
    "    if cond:\n",
    "        delta = 1 - delta\n",
    "        f_new = g \n",
    "        g_new = (g + f) >> 1\n",
    "    else:\n",
    "        delta = 1 + delta\n",
    "        f_new = f\n",
    "        g_new = (g + (g_and_1 * f)) >> 1\n",
    "    return delta, f_new, g_new\n",
    "\n",
    "\n",
    "def divstep(delta, f, g):\n",
    "    g_and_1 = g & 1\n",
    "    cond = (int(delta > 0)) & (g_and_1 == 1)\n",
    "\n",
    "    if cond:\n",
    "        delta = 1 - delta\n",
    "        f_new = g \n",
    "        g_new = (g - f) >> 1\n",
    "    else:\n",
    "        delta = 1 + delta\n",
    "        f_new = f\n",
    "        g_new = (g + (g_and_1 * f)) >> 1\n",
    "    return delta, f_new, g_new\n"
   ]
  },
  {
   "cell_type": "code",
   "execution_count": 3,
   "id": "c854d84a-c642-4430-9111-aad8551d1c54",
   "metadata": {},
   "outputs": [
    {
     "name": "stdout",
     "output_type": "stream",
     "text": [
      "11982043 8631426\n",
      "46\n"
     ]
    }
   ],
   "source": [
    "f = F\n",
    "g = G\n",
    "print(f,g)\n",
    "delta = 0.5\n",
    "STEPS = 100\n",
    "for _ in range(STEPS):\n",
    "    delta, f, g = divstep(delta, f, g)\n",
    "    #print(f)\n",
    "    #print(g)\n",
    "    if f == 0 or g == 0:\n",
    "\n",
    "        print(_)\n",
    "        break\n"
   ]
  },
  {
   "cell_type": "code",
   "execution_count": 4,
   "id": "2b3db04f-f79a-419b-8f85-4d150f72be1b",
   "metadata": {},
   "outputs": [
    {
     "name": "stdout",
     "output_type": "stream",
     "text": [
      "11982043 8631426\n",
      "64\n"
     ]
    }
   ],
   "source": [
    "f = F\n",
    "g = G\n",
    "print(f,g)\n",
    "delta = 0.5\n",
    "STEPS = 100\n",
    "for _ in range(STEPS):\n",
    "    delta, f, g = Newdivstep(delta, f, g)\n",
    "    #print(f)\n",
    "    #print(g)\n",
    "    #print(f -g)\n",
    "    if (f - g) == 0:\n",
    "        print(_)\n",
    "        break"
   ]
  },
  {
   "cell_type": "code",
   "execution_count": null,
   "id": "aaeed999-2cab-41a3-8f52-b81e291fe2db",
   "metadata": {},
   "outputs": [],
   "source": []
  },
  {
   "cell_type": "code",
   "execution_count": null,
   "id": "1236beae-3d17-42d8-8b59-82125eb0121e",
   "metadata": {},
   "outputs": [],
   "source": []
  },
  {
   "cell_type": "code",
   "execution_count": null,
   "id": "f2a5e881-ab29-4fcc-878e-6325f2470d97",
   "metadata": {},
   "outputs": [],
   "source": []
  },
  {
   "cell_type": "code",
   "execution_count": null,
   "id": "7a439c2f-a659-4a1f-9fe4-8754e4f6b1c2",
   "metadata": {},
   "outputs": [],
   "source": []
  },
  {
   "cell_type": "code",
   "execution_count": null,
   "id": "7ddc9035-62db-4b67-b36a-19823a2f30a7",
   "metadata": {},
   "outputs": [],
   "source": []
  },
  {
   "cell_type": "code",
   "execution_count": null,
   "id": "5ee4a0c0-3ef3-4015-93ac-98e144c4f002",
   "metadata": {},
   "outputs": [],
   "source": []
  },
  {
   "cell_type": "code",
   "execution_count": null,
   "id": "2ac7f306-8c27-4bd3-b600-38dcc3cdf786",
   "metadata": {},
   "outputs": [],
   "source": []
  },
  {
   "cell_type": "code",
   "execution_count": null,
   "id": "ef1916cc-e7e7-421c-8dde-a08289e3c895",
   "metadata": {},
   "outputs": [],
   "source": []
  },
  {
   "cell_type": "code",
   "execution_count": null,
   "id": "11c010b5-c021-4ea0-895c-93fb15220f20",
   "metadata": {},
   "outputs": [],
   "source": []
  },
  {
   "cell_type": "code",
   "execution_count": null,
   "id": "e9e04aa5-37d4-4d76-98b4-e1a742301778",
   "metadata": {},
   "outputs": [],
   "source": []
  },
  {
   "cell_type": "code",
   "execution_count": null,
   "id": "6fae434e-f746-4e36-bb90-516272cd01d8",
   "metadata": {},
   "outputs": [],
   "source": []
  },
  {
   "cell_type": "code",
   "execution_count": null,
   "id": "c0a94615-f702-446d-8275-ef62d4df8d37",
   "metadata": {},
   "outputs": [],
   "source": []
  }
 ],
 "metadata": {
  "kernelspec": {
   "display_name": "Python 3 (ipykernel)",
   "language": "python",
   "name": "python3"
  },
  "language_info": {
   "codemirror_mode": {
    "name": "ipython",
    "version": 3
   },
   "file_extension": ".py",
   "mimetype": "text/x-python",
   "name": "python",
   "nbconvert_exporter": "python",
   "pygments_lexer": "ipython3",
   "version": "3.10.16"
  }
 },
 "nbformat": 4,
 "nbformat_minor": 5
}
